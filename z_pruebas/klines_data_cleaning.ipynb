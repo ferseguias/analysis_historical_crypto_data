{
 "cells": [
  {
   "cell_type": "code",
   "execution_count": 1,
   "metadata": {},
   "outputs": [],
   "source": [
    "from datetime import datetime\n",
    "import pandas as pd"
   ]
  },
  {
   "cell_type": "code",
   "execution_count": 2,
   "metadata": {},
   "outputs": [
    {
     "ename": "NameError",
     "evalue": "name 'eth_1d' is not defined",
     "output_type": "error",
     "traceback": [
      "\u001b[0;31m---------------------------------------------------------------------------\u001b[0m",
      "\u001b[0;31mNameError\u001b[0m                                 Traceback (most recent call last)",
      "\u001b[0;32m/var/folders/yl/s1pq6fh930j3frb4n30yfhv00000gn/T/ipykernel_40300/643835922.py\u001b[0m in \u001b[0;36m<module>\u001b[0;34m\u001b[0m\n\u001b[1;32m      5\u001b[0m            \"taker_buy_quote_asset_volume\", \"ignore\"]\n\u001b[1;32m      6\u001b[0m \u001b[0;34m\u001b[0m\u001b[0m\n\u001b[0;32m----> 7\u001b[0;31m \u001b[0meth_1d\u001b[0m\u001b[0;34m.\u001b[0m\u001b[0mcolumns\u001b[0m \u001b[0;34m=\u001b[0m \u001b[0mcolumns\u001b[0m\u001b[0;34m\u001b[0m\u001b[0;34m\u001b[0m\u001b[0m\n\u001b[0m\u001b[1;32m      8\u001b[0m \u001b[0;34m\u001b[0m\u001b[0m\n\u001b[1;32m      9\u001b[0m eth_1d.drop([\"quote_asset_volume\", \n",
      "\u001b[0;31mNameError\u001b[0m: name 'eth_1d' is not defined"
     ]
    }
   ],
   "source": [
    "#definicion de columnas, eliminacion no necesarias y formato con apply\n",
    "columns = [\"open_time\", \"open_price\", \"high_price\", \"low_price\", \n",
    "           \"close_price\", \"volume_usd\", \"close_time\", \"quote_asset_volume\", \n",
    "           \"number_of_trades\", \"taker_buy_base_asset_volume\", \n",
    "           \"taker_buy_quote_asset_volume\", \"ignore\"]\n",
    "\n",
    "eth_1d.columns = columns\n",
    "\n",
    "eth_1d.drop([\"quote_asset_volume\", \n",
    "             \"taker_buy_base_asset_volume\", \n",
    "             \"taker_buy_quote_asset_volume\", \n",
    "             \"ignore\"], axis = 1, inplace = True)\n",
    "\n",
    "def date_time(timestamp):\n",
    "    return datetime.fromtimestamp(float(timestamp)/1000)\n",
    "\n",
    "def float_num(string):\n",
    "    return round(float(string), 2)\n",
    "\n",
    "#intente hacer un for con if y no lo logre! 🥲\n",
    "eth_1d[\"open_time\"] = eth_1d[\"open_time\"].apply(date_time)\n",
    "eth_1d[\"close_time\"] = eth_1d[\"close_time\"].apply(date_time)\n",
    "eth_1d[\"open_price\"] = eth_1d[\"open_price\"].apply(float_num)\n",
    "eth_1d[\"high_price\"] = eth_1d[\"high_price\"].apply(float_num)\n",
    "eth_1d[\"low_price\"] = eth_1d[\"low_price\"].apply(float_num)\n",
    "eth_1d[\"close_price\"] = eth_1d[\"close_price\"].apply(float_num)\n",
    "eth_1d[\"volume_usd\"] = eth_1d[\"volume_usd\"].apply(float_num)\n",
    "\n",
    "#calculo moving average 50, 128 y 200 periodos y agrego columnas\n",
    "windows_50 = eth_1d[\"close_price\"].rolling(50)\n",
    "moving_averages_50 = windows_50.mean()\n",
    "eth_1d[\"ma_50\"] = moving_averages_50.round(2)\n",
    "\n",
    "windows_128 = eth_1d[\"close_price\"].rolling(128)\n",
    "moving_averages_128 = windows_128.mean()\n",
    "eth_1d[\"ma_128\"] = moving_averages_128.round(2)\n",
    "\n",
    "windows_200 = eth_1d[\"close_price\"].rolling(200)\n",
    "moving_averages_200 = windows_200.mean()\n",
    "eth_1d[\"ma_200\"] = moving_averages_200.round(2)"
   ]
  },
  {
   "cell_type": "code",
   "execution_count": null,
   "metadata": {},
   "outputs": [],
   "source": []
  }
 ],
 "metadata": {
  "interpreter": {
   "hash": "81535c40c187213d8173a98c8ffbf422147d8403865cdcdb817e05fa807ec559"
  },
  "kernelspec": {
   "display_name": "Python 3.9.7 ('base')",
   "language": "python",
   "name": "python3"
  },
  "language_info": {
   "codemirror_mode": {
    "name": "ipython",
    "version": 3
   },
   "file_extension": ".py",
   "mimetype": "text/x-python",
   "name": "python",
   "nbconvert_exporter": "python",
   "pygments_lexer": "ipython3",
   "version": "3.9.7"
  },
  "orig_nbformat": 4
 },
 "nbformat": 4,
 "nbformat_minor": 2
}
