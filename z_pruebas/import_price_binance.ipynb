{
 "cells": [
  {
   "cell_type": "code",
   "execution_count": 1,
   "id": "fb1a35be",
   "metadata": {},
   "outputs": [
    {
     "data": {
      "text/plain": [
       "True"
      ]
     },
     "execution_count": 1,
     "metadata": {},
     "output_type": "execute_result"
    }
   ],
   "source": [
    "import pandas as pd\n",
    "from binance import Client\n",
    "import os\n",
    "from dotenv import load_dotenv\n",
    "load_dotenv()"
   ]
  },
  {
   "cell_type": "code",
   "execution_count": 2,
   "id": "46805d52",
   "metadata": {},
   "outputs": [],
   "source": [
    "#importacion segura api key y security key\n",
    "api_key = os.getenv(\"BNB_API_KEY\")\n",
    "api_secret = os.getenv(\"BNB_SECRET_KEY\")\n",
    "\n",
    "#conexion API\n",
    "client = Client(api_key, api_secret)\n",
    "\n",
    "#request candlestick info diaria para el activo ETH/USDT desde el 01-10-2017 al dia de ayer\n",
    "klines = client.get_historical_klines(\"ETHUSDT\", Client.KLINE_INTERVAL_1DAY, \"1 Oct, 2017\", \"23 Feb, 2022\")\n",
    "\n",
    "#export csv\n",
    "eth_1d = pd.DataFrame(klines)\n",
    "eth_1d.to_csv(r'/Users/fernandoseguias/Desktop/ferseg/Proyectos/Programacion/iron_hack/project_1/output/eth_1d.csv', index = False)"
   ]
  },
  {
   "cell_type": "code",
   "execution_count": null,
   "id": "a3a48beb",
   "metadata": {},
   "outputs": [],
   "source": []
  }
 ],
 "metadata": {
  "kernelspec": {
   "display_name": "Python 3 (ipykernel)",
   "language": "python",
   "name": "python3"
  },
  "language_info": {
   "codemirror_mode": {
    "name": "ipython",
    "version": 3
   },
   "file_extension": ".py",
   "mimetype": "text/x-python",
   "name": "python",
   "nbconvert_exporter": "python",
   "pygments_lexer": "ipython3",
   "version": "3.9.7"
  }
 },
 "nbformat": 4,
 "nbformat_minor": 5
}
