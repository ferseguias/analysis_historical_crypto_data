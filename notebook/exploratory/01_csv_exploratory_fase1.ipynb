{
 "cells": [
  {
   "cell_type": "code",
   "execution_count": 11,
   "metadata": {},
   "outputs": [],
   "source": [
    "import pandas as pd\n",
    "import sidetable"
   ]
  },
  {
   "cell_type": "code",
   "execution_count": 12,
   "metadata": {},
   "outputs": [
    {
     "data": {
      "text/html": [
       "<div>\n",
       "<style scoped>\n",
       "    .dataframe tbody tr th:only-of-type {\n",
       "        vertical-align: middle;\n",
       "    }\n",
       "\n",
       "    .dataframe tbody tr th {\n",
       "        vertical-align: top;\n",
       "    }\n",
       "\n",
       "    .dataframe thead th {\n",
       "        text-align: right;\n",
       "    }\n",
       "</style>\n",
       "<table border=\"1\" class=\"dataframe\">\n",
       "  <thead>\n",
       "    <tr style=\"text-align: right;\">\n",
       "      <th></th>\n",
       "      <th>Date</th>\n",
       "      <th>Open</th>\n",
       "      <th>High</th>\n",
       "      <th>Low</th>\n",
       "      <th>Close</th>\n",
       "      <th>Volume</th>\n",
       "      <th>Currency</th>\n",
       "      <th>Coin</th>\n",
       "    </tr>\n",
       "  </thead>\n",
       "  <tbody>\n",
       "    <tr>\n",
       "      <th>4896</th>\n",
       "      <td>2018-01-19</td>\n",
       "      <td>993.920000</td>\n",
       "      <td>1079.000000</td>\n",
       "      <td>960.100000</td>\n",
       "      <td>1032.600000</td>\n",
       "      <td>612185</td>\n",
       "      <td>USD</td>\n",
       "      <td>eth</td>\n",
       "    </tr>\n",
       "    <tr>\n",
       "      <th>2493</th>\n",
       "      <td>2017-05-15</td>\n",
       "      <td>1772.600000</td>\n",
       "      <td>1776.700000</td>\n",
       "      <td>1656.800000</td>\n",
       "      <td>1708.900000</td>\n",
       "      <td>80242</td>\n",
       "      <td>USD</td>\n",
       "      <td>btc</td>\n",
       "    </tr>\n",
       "    <tr>\n",
       "      <th>23734</th>\n",
       "      <td>2021-04-18</td>\n",
       "      <td>1.008680</td>\n",
       "      <td>1.024507</td>\n",
       "      <td>0.992135</td>\n",
       "      <td>0.996321</td>\n",
       "      <td>77207362</td>\n",
       "      <td>USD</td>\n",
       "      <td>ust</td>\n",
       "    </tr>\n",
       "    <tr>\n",
       "      <th>7234</th>\n",
       "      <td>2020-03-22</td>\n",
       "      <td>12.080737</td>\n",
       "      <td>12.392440</td>\n",
       "      <td>11.138777</td>\n",
       "      <td>11.158228</td>\n",
       "      <td>308670064</td>\n",
       "      <td>USD</td>\n",
       "      <td>bnb</td>\n",
       "    </tr>\n",
       "  </tbody>\n",
       "</table>\n",
       "</div>"
      ],
      "text/plain": [
       "             Date         Open         High          Low        Close  \\\n",
       "4896   2018-01-19   993.920000  1079.000000   960.100000  1032.600000   \n",
       "2493   2017-05-15  1772.600000  1776.700000  1656.800000  1708.900000   \n",
       "23734  2021-04-18     1.008680     1.024507     0.992135     0.996321   \n",
       "7234   2020-03-22    12.080737    12.392440    11.138777    11.158228   \n",
       "\n",
       "          Volume Currency Coin  \n",
       "4896      612185      USD  eth  \n",
       "2493       80242      USD  btc  \n",
       "23734   77207362      USD  ust  \n",
       "7234   308670064      USD  bnb  "
      ]
     },
     "execution_count": 12,
     "metadata": {},
     "output_type": "execute_result"
    }
   ],
   "source": [
    "cryptos = pd.read_csv(r\"/Users/fernandoseguias/Desktop/ferseg/Proyectos/Programacion/iron_hack/project_1/output/cryptos_raw.csv\")\n",
    "cryptos.sample(4)"
   ]
  },
  {
   "cell_type": "code",
   "execution_count": 13,
   "metadata": {},
   "outputs": [
    {
     "data": {
      "text/plain": [
       "Index(['Date', 'Open', 'High', 'Low', 'Close', 'Volume', 'Currency', 'Coin'], dtype='object')"
      ]
     },
     "execution_count": 13,
     "metadata": {},
     "output_type": "execute_result"
    }
   ],
   "source": [
    "cryptos.columns"
   ]
  },
  {
   "cell_type": "code",
   "execution_count": 14,
   "metadata": {},
   "outputs": [
    {
     "name": "stdout",
     "output_type": "stream",
     "text": [
      "rows: 25481 - columns: 8\n"
     ]
    }
   ],
   "source": [
    "print(f'rows: {cryptos.shape[0]} - columns: {cryptos.shape[1]}')"
   ]
  },
  {
   "cell_type": "code",
   "execution_count": 15,
   "metadata": {},
   "outputs": [
    {
     "data": {
      "text/plain": [
       "Date         object\n",
       "Open        float64\n",
       "High        float64\n",
       "Low         float64\n",
       "Close       float64\n",
       "Volume        int64\n",
       "Currency     object\n",
       "Coin         object\n",
       "dtype: object"
      ]
     },
     "execution_count": 15,
     "metadata": {},
     "output_type": "execute_result"
    }
   ],
   "source": [
    "cryptos.dtypes"
   ]
  },
  {
   "cell_type": "code",
   "execution_count": 16,
   "metadata": {},
   "outputs": [
    {
     "name": "stdout",
     "output_type": "stream",
     "text": [
      "<class 'pandas.core.frame.DataFrame'>\n",
      "RangeIndex: 25481 entries, 0 to 25480\n",
      "Data columns (total 8 columns):\n",
      " #   Column    Non-Null Count  Dtype  \n",
      "---  ------    --------------  -----  \n",
      " 0   Date      25481 non-null  object \n",
      " 1   Open      25481 non-null  float64\n",
      " 2   High      25481 non-null  float64\n",
      " 3   Low       25481 non-null  float64\n",
      " 4   Close     25481 non-null  float64\n",
      " 5   Volume    25481 non-null  int64  \n",
      " 6   Currency  25481 non-null  object \n",
      " 7   Coin      25481 non-null  object \n",
      "dtypes: float64(4), int64(1), object(3)\n",
      "memory usage: 1.6+ MB\n"
     ]
    }
   ],
   "source": [
    "cryptos.info()"
   ]
  },
  {
   "cell_type": "code",
   "execution_count": 17,
   "metadata": {},
   "outputs": [
    {
     "data": {
      "text/html": [
       "<div>\n",
       "<style scoped>\n",
       "    .dataframe tbody tr th:only-of-type {\n",
       "        vertical-align: middle;\n",
       "    }\n",
       "\n",
       "    .dataframe tbody tr th {\n",
       "        vertical-align: top;\n",
       "    }\n",
       "\n",
       "    .dataframe thead th {\n",
       "        text-align: right;\n",
       "    }\n",
       "</style>\n",
       "<table border=\"1\" class=\"dataframe\">\n",
       "  <thead>\n",
       "    <tr style=\"text-align: right;\">\n",
       "      <th></th>\n",
       "      <th>Open</th>\n",
       "      <th>High</th>\n",
       "      <th>Low</th>\n",
       "      <th>Close</th>\n",
       "      <th>Volume</th>\n",
       "    </tr>\n",
       "  </thead>\n",
       "  <tbody>\n",
       "    <tr>\n",
       "      <th>count</th>\n",
       "      <td>25481.000000</td>\n",
       "      <td>25481.000000</td>\n",
       "      <td>25481.000000</td>\n",
       "      <td>25481.000000</td>\n",
       "      <td>2.548100e+04</td>\n",
       "    </tr>\n",
       "    <tr>\n",
       "      <th>mean</th>\n",
       "      <td>1258.306283</td>\n",
       "      <td>1294.988799</td>\n",
       "      <td>1216.913396</td>\n",
       "      <td>1259.936767</td>\n",
       "      <td>5.384455e+08</td>\n",
       "    </tr>\n",
       "    <tr>\n",
       "      <th>std</th>\n",
       "      <td>6198.916592</td>\n",
       "      <td>6372.607986</td>\n",
       "      <td>5998.974560</td>\n",
       "      <td>6203.249566</td>\n",
       "      <td>3.418347e+09</td>\n",
       "    </tr>\n",
       "    <tr>\n",
       "      <th>min</th>\n",
       "      <td>0.000000</td>\n",
       "      <td>0.000793</td>\n",
       "      <td>0.000000</td>\n",
       "      <td>0.000774</td>\n",
       "      <td>0.000000e+00</td>\n",
       "    </tr>\n",
       "    <tr>\n",
       "      <th>25%</th>\n",
       "      <td>0.888000</td>\n",
       "      <td>0.921584</td>\n",
       "      <td>0.804100</td>\n",
       "      <td>0.892200</td>\n",
       "      <td>3.563360e+05</td>\n",
       "    </tr>\n",
       "    <tr>\n",
       "      <th>50%</th>\n",
       "      <td>1.753100</td>\n",
       "      <td>1.895688</td>\n",
       "      <td>1.614290</td>\n",
       "      <td>1.767700</td>\n",
       "      <td>7.879397e+06</td>\n",
       "    </tr>\n",
       "    <tr>\n",
       "      <th>75%</th>\n",
       "      <td>78.700000</td>\n",
       "      <td>82.528000</td>\n",
       "      <td>75.000000</td>\n",
       "      <td>78.961000</td>\n",
       "      <td>1.588379e+08</td>\n",
       "    </tr>\n",
       "    <tr>\n",
       "      <th>max</th>\n",
       "      <td>67528.700000</td>\n",
       "      <td>68990.600000</td>\n",
       "      <td>66334.900000</td>\n",
       "      <td>67527.900000</td>\n",
       "      <td>3.155511e+11</td>\n",
       "    </tr>\n",
       "  </tbody>\n",
       "</table>\n",
       "</div>"
      ],
      "text/plain": [
       "               Open          High           Low         Close        Volume\n",
       "count  25481.000000  25481.000000  25481.000000  25481.000000  2.548100e+04\n",
       "mean    1258.306283   1294.988799   1216.913396   1259.936767  5.384455e+08\n",
       "std     6198.916592   6372.607986   5998.974560   6203.249566  3.418347e+09\n",
       "min        0.000000      0.000793      0.000000      0.000774  0.000000e+00\n",
       "25%        0.888000      0.921584      0.804100      0.892200  3.563360e+05\n",
       "50%        1.753100      1.895688      1.614290      1.767700  7.879397e+06\n",
       "75%       78.700000     82.528000     75.000000     78.961000  1.588379e+08\n",
       "max    67528.700000  68990.600000  66334.900000  67527.900000  3.155511e+11"
      ]
     },
     "execution_count": 17,
     "metadata": {},
     "output_type": "execute_result"
    }
   ],
   "source": [
    "cryptos.describe()"
   ]
  },
  {
   "cell_type": "code",
   "execution_count": 18,
   "metadata": {},
   "outputs": [
    {
     "data": {
      "text/html": [
       "<div>\n",
       "<style scoped>\n",
       "    .dataframe tbody tr th:only-of-type {\n",
       "        vertical-align: middle;\n",
       "    }\n",
       "\n",
       "    .dataframe tbody tr th {\n",
       "        vertical-align: top;\n",
       "    }\n",
       "\n",
       "    .dataframe thead th {\n",
       "        text-align: right;\n",
       "    }\n",
       "</style>\n",
       "<table border=\"1\" class=\"dataframe\">\n",
       "  <thead>\n",
       "    <tr style=\"text-align: right;\">\n",
       "      <th></th>\n",
       "      <th>Date</th>\n",
       "      <th>Currency</th>\n",
       "      <th>Coin</th>\n",
       "    </tr>\n",
       "  </thead>\n",
       "  <tbody>\n",
       "    <tr>\n",
       "      <th>count</th>\n",
       "      <td>25481</td>\n",
       "      <td>25481</td>\n",
       "      <td>25481</td>\n",
       "    </tr>\n",
       "    <tr>\n",
       "      <th>unique</th>\n",
       "      <td>4217</td>\n",
       "      <td>1</td>\n",
       "      <td>20</td>\n",
       "    </tr>\n",
       "    <tr>\n",
       "      <th>top</th>\n",
       "      <td>2021-05-12</td>\n",
       "      <td>USD</td>\n",
       "      <td>btc</td>\n",
       "    </tr>\n",
       "    <tr>\n",
       "      <th>freq</th>\n",
       "      <td>20</td>\n",
       "      <td>25481</td>\n",
       "      <td>4216</td>\n",
       "    </tr>\n",
       "  </tbody>\n",
       "</table>\n",
       "</div>"
      ],
      "text/plain": [
       "              Date Currency   Coin\n",
       "count        25481    25481  25481\n",
       "unique        4217        1     20\n",
       "top     2021-05-12      USD    btc\n",
       "freq            20    25481   4216"
      ]
     },
     "execution_count": 18,
     "metadata": {},
     "output_type": "execute_result"
    }
   ],
   "source": [
    "cryptos.describe(include = \"object\")"
   ]
  },
  {
   "cell_type": "code",
   "execution_count": 19,
   "metadata": {},
   "outputs": [
    {
     "data": {
      "text/plain": [
       "0"
      ]
     },
     "execution_count": 19,
     "metadata": {},
     "output_type": "execute_result"
    }
   ],
   "source": [
    "cryptos.duplicated().sum()"
   ]
  },
  {
   "cell_type": "code",
   "execution_count": 20,
   "metadata": {},
   "outputs": [
    {
     "data": {
      "text/html": [
       "<div>\n",
       "<style scoped>\n",
       "    .dataframe tbody tr th:only-of-type {\n",
       "        vertical-align: middle;\n",
       "    }\n",
       "\n",
       "    .dataframe tbody tr th {\n",
       "        vertical-align: top;\n",
       "    }\n",
       "\n",
       "    .dataframe thead th {\n",
       "        text-align: right;\n",
       "    }\n",
       "</style>\n",
       "<table border=\"1\" class=\"dataframe\">\n",
       "  <thead>\n",
       "    <tr style=\"text-align: right;\">\n",
       "      <th></th>\n",
       "      <th>missing</th>\n",
       "      <th>total</th>\n",
       "      <th>percent</th>\n",
       "    </tr>\n",
       "  </thead>\n",
       "  <tbody>\n",
       "    <tr>\n",
       "      <th>Date</th>\n",
       "      <td>0</td>\n",
       "      <td>25481</td>\n",
       "      <td>0.0</td>\n",
       "    </tr>\n",
       "    <tr>\n",
       "      <th>Open</th>\n",
       "      <td>0</td>\n",
       "      <td>25481</td>\n",
       "      <td>0.0</td>\n",
       "    </tr>\n",
       "    <tr>\n",
       "      <th>High</th>\n",
       "      <td>0</td>\n",
       "      <td>25481</td>\n",
       "      <td>0.0</td>\n",
       "    </tr>\n",
       "    <tr>\n",
       "      <th>Low</th>\n",
       "      <td>0</td>\n",
       "      <td>25481</td>\n",
       "      <td>0.0</td>\n",
       "    </tr>\n",
       "    <tr>\n",
       "      <th>Close</th>\n",
       "      <td>0</td>\n",
       "      <td>25481</td>\n",
       "      <td>0.0</td>\n",
       "    </tr>\n",
       "    <tr>\n",
       "      <th>Volume</th>\n",
       "      <td>0</td>\n",
       "      <td>25481</td>\n",
       "      <td>0.0</td>\n",
       "    </tr>\n",
       "    <tr>\n",
       "      <th>Currency</th>\n",
       "      <td>0</td>\n",
       "      <td>25481</td>\n",
       "      <td>0.0</td>\n",
       "    </tr>\n",
       "    <tr>\n",
       "      <th>Coin</th>\n",
       "      <td>0</td>\n",
       "      <td>25481</td>\n",
       "      <td>0.0</td>\n",
       "    </tr>\n",
       "  </tbody>\n",
       "</table>\n",
       "</div>"
      ],
      "text/plain": [
       "          missing  total  percent\n",
       "Date            0  25481      0.0\n",
       "Open            0  25481      0.0\n",
       "High            0  25481      0.0\n",
       "Low             0  25481      0.0\n",
       "Close           0  25481      0.0\n",
       "Volume          0  25481      0.0\n",
       "Currency        0  25481      0.0\n",
       "Coin            0  25481      0.0"
      ]
     },
     "execution_count": 20,
     "metadata": {},
     "output_type": "execute_result"
    }
   ],
   "source": [
    "cryptos.stb.missing()"
   ]
  },
  {
   "cell_type": "code",
   "execution_count": null,
   "metadata": {},
   "outputs": [],
   "source": []
  }
 ],
 "metadata": {
  "interpreter": {
   "hash": "ce6363407d7cc5a6c2650843f0f84be89a0eefdab9ca8dc30ba5b5f925591864"
  },
  "kernelspec": {
   "display_name": "Python 3.5.6 ('snakes')",
   "language": "python",
   "name": "python3"
  },
  "language_info": {
   "codemirror_mode": {
    "name": "ipython",
    "version": 3
   },
   "file_extension": ".py",
   "mimetype": "text/x-python",
   "name": "python",
   "nbconvert_exporter": "python",
   "pygments_lexer": "ipython3",
   "version": "3.9.7"
  },
  "orig_nbformat": 4
 },
 "nbformat": 4,
 "nbformat_minor": 2
}
