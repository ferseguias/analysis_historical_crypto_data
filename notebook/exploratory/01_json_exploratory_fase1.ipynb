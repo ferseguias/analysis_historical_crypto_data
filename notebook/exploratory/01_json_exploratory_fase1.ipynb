{
 "cells": [
  {
   "cell_type": "code",
   "execution_count": 1,
   "metadata": {},
   "outputs": [],
   "source": [
    "import pandas as pd\n",
    "import numpy as np\n",
    "import sidetable\n",
    "import seaborn as sns\n",
    "import matplotlib.pyplot as plt"
   ]
  },
  {
   "cell_type": "code",
   "execution_count": 2,
   "metadata": {},
   "outputs": [
    {
     "data": {
      "text/html": [
       "<div>\n",
       "<style scoped>\n",
       "    .dataframe tbody tr th:only-of-type {\n",
       "        vertical-align: middle;\n",
       "    }\n",
       "\n",
       "    .dataframe tbody tr th {\n",
       "        vertical-align: top;\n",
       "    }\n",
       "\n",
       "    .dataframe thead th {\n",
       "        text-align: right;\n",
       "    }\n",
       "</style>\n",
       "<table border=\"1\" class=\"dataframe\">\n",
       "  <thead>\n",
       "    <tr style=\"text-align: right;\">\n",
       "      <th></th>\n",
       "      <th>prices</th>\n",
       "      <th>market_caps</th>\n",
       "      <th>total_volumes</th>\n",
       "      <th>coin</th>\n",
       "    </tr>\n",
       "  </thead>\n",
       "  <tbody>\n",
       "    <tr>\n",
       "      <th>6184</th>\n",
       "      <td>[1558483200000, 0.0289136483]</td>\n",
       "      <td>[1558483200000, 62459642.03780136]</td>\n",
       "      <td>[1558483200000, 696647294.9053901]</td>\n",
       "      <td>matic</td>\n",
       "    </tr>\n",
       "    <tr>\n",
       "      <th>11768</th>\n",
       "      <td>[1555459200000, 1.0041212295]</td>\n",
       "      <td>[1555459200000, 2065850646.7347767]</td>\n",
       "      <td>[1555459200000, 17222193366.955063]</td>\n",
       "      <td>usdt</td>\n",
       "    </tr>\n",
       "    <tr>\n",
       "      <th>8272</th>\n",
       "      <td>[1628899200000, 182.8836467434]</td>\n",
       "      <td>[1628899200000, 0.0]</td>\n",
       "      <td>[1628899200000, 1274711.2631209018]</td>\n",
       "      <td>ltc</td>\n",
       "    </tr>\n",
       "    <tr>\n",
       "      <th>13673</th>\n",
       "      <td>[1617926400000, 1.0013443798]</td>\n",
       "      <td>[1617926400000, 11178287475.748632]</td>\n",
       "      <td>[1617926400000, 1487482374.5328546]</td>\n",
       "      <td>usdc</td>\n",
       "    </tr>\n",
       "  </tbody>\n",
       "</table>\n",
       "</div>"
      ],
      "text/plain": [
       "                                prices                          market_caps  \\\n",
       "6184     [1558483200000, 0.0289136483]   [1558483200000, 62459642.03780136]   \n",
       "11768    [1555459200000, 1.0041212295]  [1555459200000, 2065850646.7347767]   \n",
       "8272   [1628899200000, 182.8836467434]                 [1628899200000, 0.0]   \n",
       "13673    [1617926400000, 1.0013443798]  [1617926400000, 11178287475.748632]   \n",
       "\n",
       "                             total_volumes   coin  \n",
       "6184    [1558483200000, 696647294.9053901]  matic  \n",
       "11768  [1555459200000, 17222193366.955063]   usdt  \n",
       "8272   [1628899200000, 1274711.2631209018]    ltc  \n",
       "13673  [1617926400000, 1487482374.5328546]   usdc  "
      ]
     },
     "execution_count": 2,
     "metadata": {},
     "output_type": "execute_result"
    }
   ],
   "source": [
    "cryptos = pd.read_json(r\"/Users/fernandoseguias/Desktop/ferseg/Proyectos/Programacion/iron_hack/project_1/output/cryptos_raw.json\")\n",
    "cryptos.sample(4)\n",
    "\n",
    "#diccionary = {prices:[timestamp, prices], market_caps:[timestamp, marketcaps], total_volumes:[timestamp, total_volumes]"
   ]
  },
  {
   "cell_type": "code",
   "execution_count": 8,
   "metadata": {},
   "outputs": [
    {
     "data": {
      "text/plain": [
       "Index(['prices', 'market_caps', 'total_volumes', 'coin'], dtype='object')"
      ]
     },
     "execution_count": 8,
     "metadata": {},
     "output_type": "execute_result"
    }
   ],
   "source": [
    "cryptos.columns #add column date (from timestamp), add column coin (from json name) and extract prices, market_caps and total_volumes (from lists)"
   ]
  },
  {
   "cell_type": "code",
   "execution_count": 9,
   "metadata": {},
   "outputs": [
    {
     "name": "stdout",
     "output_type": "stream",
     "text": [
      "rows: 15999 - columns: 4\n"
     ]
    }
   ],
   "source": [
    "print(f'rows: {cryptos.shape[0]} - columns: {cryptos.shape[1]}')"
   ]
  },
  {
   "cell_type": "code",
   "execution_count": 14,
   "metadata": {},
   "outputs": [
    {
     "data": {
      "text/plain": [
       "prices           object\n",
       "market_caps      object\n",
       "total_volumes    object\n",
       "coin             object\n",
       "dtype: object"
      ]
     },
     "execution_count": 14,
     "metadata": {},
     "output_type": "execute_result"
    }
   ],
   "source": [
    "cryptos.dtypes \n",
    "\n",
    "#objects because its values are lists, transform to values then to specific type\n",
    "#change timestamp for date, coin to category and prices, marketcaps and total_volumes for floats (5)"
   ]
  },
  {
   "cell_type": "code",
   "execution_count": 12,
   "metadata": {},
   "outputs": [
    {
     "name": "stdout",
     "output_type": "stream",
     "text": [
      "<class 'pandas.core.frame.DataFrame'>\n",
      "Int64Index: 15999 entries, 0 to 15998\n",
      "Data columns (total 4 columns):\n",
      " #   Column         Non-Null Count  Dtype \n",
      "---  ------         --------------  ----- \n",
      " 0   prices         15999 non-null  object\n",
      " 1   market_caps    15999 non-null  object\n",
      " 2   total_volumes  15999 non-null  object\n",
      " 3   coin           15999 non-null  object\n",
      "dtypes: object(4)\n",
      "memory usage: 625.0+ KB\n"
     ]
    }
   ],
   "source": [
    "cryptos.info()"
   ]
  },
  {
   "cell_type": "code",
   "execution_count": 16,
   "metadata": {},
   "outputs": [
    {
     "data": {
      "text/html": [
       "<div>\n",
       "<style scoped>\n",
       "    .dataframe tbody tr th:only-of-type {\n",
       "        vertical-align: middle;\n",
       "    }\n",
       "\n",
       "    .dataframe tbody tr th {\n",
       "        vertical-align: top;\n",
       "    }\n",
       "\n",
       "    .dataframe thead th {\n",
       "        text-align: right;\n",
       "    }\n",
       "</style>\n",
       "<table border=\"1\" class=\"dataframe\">\n",
       "  <thead>\n",
       "    <tr style=\"text-align: right;\">\n",
       "      <th></th>\n",
       "      <th>missing</th>\n",
       "      <th>total</th>\n",
       "      <th>percent</th>\n",
       "    </tr>\n",
       "  </thead>\n",
       "  <tbody>\n",
       "    <tr>\n",
       "      <th>prices</th>\n",
       "      <td>0</td>\n",
       "      <td>15999</td>\n",
       "      <td>0.0</td>\n",
       "    </tr>\n",
       "    <tr>\n",
       "      <th>market_caps</th>\n",
       "      <td>0</td>\n",
       "      <td>15999</td>\n",
       "      <td>0.0</td>\n",
       "    </tr>\n",
       "    <tr>\n",
       "      <th>total_volumes</th>\n",
       "      <td>0</td>\n",
       "      <td>15999</td>\n",
       "      <td>0.0</td>\n",
       "    </tr>\n",
       "    <tr>\n",
       "      <th>coin</th>\n",
       "      <td>0</td>\n",
       "      <td>15999</td>\n",
       "      <td>0.0</td>\n",
       "    </tr>\n",
       "  </tbody>\n",
       "</table>\n",
       "</div>"
      ],
      "text/plain": [
       "               missing  total  percent\n",
       "prices               0  15999      0.0\n",
       "market_caps          0  15999      0.0\n",
       "total_volumes        0  15999      0.0\n",
       "coin                 0  15999      0.0"
      ]
     },
     "execution_count": 16,
     "metadata": {},
     "output_type": "execute_result"
    }
   ],
   "source": [
    "cryptos.stb.missing() #esto sustituye a (cryptos.isnull().sum() / cryptos.shape[0]) * 100"
   ]
  }
 ],
 "metadata": {
  "interpreter": {
   "hash": "ce6363407d7cc5a6c2650843f0f84be89a0eefdab9ca8dc30ba5b5f925591864"
  },
  "kernelspec": {
   "display_name": "Python 3.5.6 ('snakes')",
   "language": "python",
   "name": "python3"
  },
  "language_info": {
   "codemirror_mode": {
    "name": "ipython",
    "version": 3
   },
   "file_extension": ".py",
   "mimetype": "text/x-python",
   "name": "python",
   "nbconvert_exporter": "python",
   "pygments_lexer": "ipython3",
   "version": "3.9.7"
  },
  "orig_nbformat": 4
 },
 "nbformat": 4,
 "nbformat_minor": 2
}
