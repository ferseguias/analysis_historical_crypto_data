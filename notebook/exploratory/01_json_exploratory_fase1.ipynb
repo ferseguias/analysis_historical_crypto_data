{
 "cells": [
  {
   "cell_type": "code",
   "execution_count": 1,
   "metadata": {},
   "outputs": [],
   "source": [
    "import pandas as pd\n",
    "import sidetable"
   ]
  },
  {
   "cell_type": "code",
   "execution_count": 2,
   "metadata": {},
   "outputs": [
    {
     "data": {
      "text/html": [
       "<div>\n",
       "<style scoped>\n",
       "    .dataframe tbody tr th:only-of-type {\n",
       "        vertical-align: middle;\n",
       "    }\n",
       "\n",
       "    .dataframe tbody tr th {\n",
       "        vertical-align: top;\n",
       "    }\n",
       "\n",
       "    .dataframe thead th {\n",
       "        text-align: right;\n",
       "    }\n",
       "</style>\n",
       "<table border=\"1\" class=\"dataframe\">\n",
       "  <thead>\n",
       "    <tr style=\"text-align: right;\">\n",
       "      <th></th>\n",
       "      <th>prices</th>\n",
       "      <th>market_caps</th>\n",
       "      <th>total_volumes</th>\n",
       "      <th>coin</th>\n",
       "    </tr>\n",
       "  </thead>\n",
       "  <tbody>\n",
       "    <tr>\n",
       "      <th>9977</th>\n",
       "      <td>[1550188800000, 0.0340983871]</td>\n",
       "      <td>[1550188800000, 42988239.93748297]</td>\n",
       "      <td>[1550188800000, 1616378.7214935613]</td>\n",
       "      <td>mana</td>\n",
       "    </tr>\n",
       "    <tr>\n",
       "      <th>338</th>\n",
       "      <td>[1543968000000, 3943.6928120656]</td>\n",
       "      <td>[1543968000000, 68592152288.353745]</td>\n",
       "      <td>[1543968000000, 3255899964.55098]</td>\n",
       "      <td>btc</td>\n",
       "    </tr>\n",
       "    <tr>\n",
       "      <th>7555</th>\n",
       "      <td>[1586995200000, 2.2696673316]</td>\n",
       "      <td>[1586995200000, 422457419.45654]</td>\n",
       "      <td>[1586995200000, 126895023.20274396]</td>\n",
       "      <td>atom</td>\n",
       "    </tr>\n",
       "    <tr>\n",
       "      <th>1139</th>\n",
       "      <td>[1613174400000, 47414.1862550079]</td>\n",
       "      <td>[1613174400000, 880620921496.0787]</td>\n",
       "      <td>[1613174400000, 61942185128.99905]</td>\n",
       "      <td>btc</td>\n",
       "    </tr>\n",
       "  </tbody>\n",
       "</table>\n",
       "</div>"
      ],
      "text/plain": [
       "                                 prices                          market_caps  \\\n",
       "9977      [1550188800000, 0.0340983871]   [1550188800000, 42988239.93748297]   \n",
       "338    [1543968000000, 3943.6928120656]  [1543968000000, 68592152288.353745]   \n",
       "7555      [1586995200000, 2.2696673316]     [1586995200000, 422457419.45654]   \n",
       "1139  [1613174400000, 47414.1862550079]   [1613174400000, 880620921496.0787]   \n",
       "\n",
       "                            total_volumes  coin  \n",
       "9977  [1550188800000, 1616378.7214935613]  mana  \n",
       "338     [1543968000000, 3255899964.55098]   btc  \n",
       "7555  [1586995200000, 126895023.20274396]  atom  \n",
       "1139   [1613174400000, 61942185128.99905]   btc  "
      ]
     },
     "execution_count": 2,
     "metadata": {},
     "output_type": "execute_result"
    }
   ],
   "source": [
    "cryptos = pd.read_json(r\"/Users/fernandoseguias/Desktop/ferseg/Proyectos/Programacion/iron_hack/project_1/output/cryptos_raw.json\")\n",
    "cryptos.sample(4)\n",
    "\n",
    "#diccionary = {prices:[timestamp, prices], market_caps:[timestamp, marketcaps], total_volumes:[timestamp, total_volumes]"
   ]
  },
  {
   "cell_type": "code",
   "execution_count": 3,
   "metadata": {},
   "outputs": [
    {
     "data": {
      "text/plain": [
       "Index(['prices', 'market_caps', 'total_volumes', 'coin'], dtype='object')"
      ]
     },
     "execution_count": 3,
     "metadata": {},
     "output_type": "execute_result"
    }
   ],
   "source": [
    "cryptos.columns #add column date (from timestamp), add column coin (from json name) and extract prices, market_caps and total_volumes (from lists)"
   ]
  },
  {
   "cell_type": "code",
   "execution_count": 4,
   "metadata": {},
   "outputs": [
    {
     "name": "stdout",
     "output_type": "stream",
     "text": [
      "rows: 15999 - columns: 4\n"
     ]
    }
   ],
   "source": [
    "print(f'rows: {cryptos.shape[0]} - columns: {cryptos.shape[1]}')"
   ]
  },
  {
   "cell_type": "code",
   "execution_count": 5,
   "metadata": {},
   "outputs": [
    {
     "data": {
      "text/plain": [
       "prices           object\n",
       "market_caps      object\n",
       "total_volumes    object\n",
       "coin             object\n",
       "dtype: object"
      ]
     },
     "execution_count": 5,
     "metadata": {},
     "output_type": "execute_result"
    }
   ],
   "source": [
    "cryptos.dtypes \n",
    "\n",
    "#objects because its values are lists, transform to values then to specific type\n",
    "#change timestamp for date, coin to category and prices, marketcaps and total_volumes for floats (5)"
   ]
  },
  {
   "cell_type": "code",
   "execution_count": 6,
   "metadata": {},
   "outputs": [
    {
     "name": "stdout",
     "output_type": "stream",
     "text": [
      "<class 'pandas.core.frame.DataFrame'>\n",
      "Int64Index: 15999 entries, 0 to 15998\n",
      "Data columns (total 4 columns):\n",
      " #   Column         Non-Null Count  Dtype \n",
      "---  ------         --------------  ----- \n",
      " 0   prices         15999 non-null  object\n",
      " 1   market_caps    15999 non-null  object\n",
      " 2   total_volumes  15999 non-null  object\n",
      " 3   coin           15999 non-null  object\n",
      "dtypes: object(4)\n",
      "memory usage: 625.0+ KB\n"
     ]
    }
   ],
   "source": [
    "cryptos.info()"
   ]
  },
  {
   "cell_type": "code",
   "execution_count": 7,
   "metadata": {},
   "outputs": [
    {
     "data": {
      "text/html": [
       "<div>\n",
       "<style scoped>\n",
       "    .dataframe tbody tr th:only-of-type {\n",
       "        vertical-align: middle;\n",
       "    }\n",
       "\n",
       "    .dataframe tbody tr th {\n",
       "        vertical-align: top;\n",
       "    }\n",
       "\n",
       "    .dataframe thead th {\n",
       "        text-align: right;\n",
       "    }\n",
       "</style>\n",
       "<table border=\"1\" class=\"dataframe\">\n",
       "  <thead>\n",
       "    <tr style=\"text-align: right;\">\n",
       "      <th></th>\n",
       "      <th>missing</th>\n",
       "      <th>total</th>\n",
       "      <th>percent</th>\n",
       "    </tr>\n",
       "  </thead>\n",
       "  <tbody>\n",
       "    <tr>\n",
       "      <th>prices</th>\n",
       "      <td>0</td>\n",
       "      <td>15999</td>\n",
       "      <td>0.0</td>\n",
       "    </tr>\n",
       "    <tr>\n",
       "      <th>market_caps</th>\n",
       "      <td>0</td>\n",
       "      <td>15999</td>\n",
       "      <td>0.0</td>\n",
       "    </tr>\n",
       "    <tr>\n",
       "      <th>total_volumes</th>\n",
       "      <td>0</td>\n",
       "      <td>15999</td>\n",
       "      <td>0.0</td>\n",
       "    </tr>\n",
       "    <tr>\n",
       "      <th>coin</th>\n",
       "      <td>0</td>\n",
       "      <td>15999</td>\n",
       "      <td>0.0</td>\n",
       "    </tr>\n",
       "  </tbody>\n",
       "</table>\n",
       "</div>"
      ],
      "text/plain": [
       "               missing  total  percent\n",
       "prices               0  15999      0.0\n",
       "market_caps          0  15999      0.0\n",
       "total_volumes        0  15999      0.0\n",
       "coin                 0  15999      0.0"
      ]
     },
     "execution_count": 7,
     "metadata": {},
     "output_type": "execute_result"
    }
   ],
   "source": [
    "cryptos.stb.missing()"
   ]
  }
 ],
 "metadata": {
  "interpreter": {
   "hash": "ce6363407d7cc5a6c2650843f0f84be89a0eefdab9ca8dc30ba5b5f925591864"
  },
  "kernelspec": {
   "display_name": "Python 3.5.6 ('snakes')",
   "language": "python",
   "name": "python3"
  },
  "language_info": {
   "codemirror_mode": {
    "name": "ipython",
    "version": 3
   },
   "file_extension": ".py",
   "mimetype": "text/x-python",
   "name": "python",
   "nbconvert_exporter": "python",
   "pygments_lexer": "ipython3",
   "version": "3.9.7"
  },
  "orig_nbformat": 4
 },
 "nbformat": 4,
 "nbformat_minor": 2
}
