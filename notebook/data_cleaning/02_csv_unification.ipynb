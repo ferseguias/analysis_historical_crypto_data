{
 "cells": [
  {
   "cell_type": "code",
   "execution_count": 1,
   "metadata": {},
   "outputs": [],
   "source": [
    "import pandas as pd\n",
    "\n",
    "cryptos = {\"btc\" : \"bitcoin\", \n",
    "            \"eth\" : \"ethereum\", \n",
    "            \"bnb\" : \"bnb\", \n",
    "            \"luna\" : \"terra\", \n",
    "            \"sol\" : \"solana\", \n",
    "            \"ada\" : \"cardano\", \n",
    "            \"avax\" : \"avalanche\", \n",
    "            \"dot\" : \"polkadot\", \n",
    "            \"doge\" : \"dogecoin\", \n",
    "            \"matic\" : \"polygon\", \n",
    "            \"atom\" : \"cosmos\", \n",
    "            \"ltc\" : \"litecoin\", \n",
    "            \"ftm\" : \"fantom\", \n",
    "            \"mana\" : \"decentraland\", \n",
    "            \"sand\" : \"the_sandbox\", \n",
    "            \"usdt\" : \"tether\", \n",
    "            \"usdc\" : \"usd_coin\", \n",
    "            \"busd\" : \"binance_usd\", \n",
    "            \"ust\" : \"terrausd\", \n",
    "            \"dai\" : \"dai\"}\n",
    "\n",
    "data_path = \"/Users/fernandoseguias/Desktop/ferseg/Proyectos/Programacion/iron_hack/project_1/data/top_100_crypto_coins/\"\n",
    "columns_csv = [\"Date\", \"Open\", \"High\", \"Low\", \"Close\", \"Volume\", \"Currency\", \"Coin\"]\n",
    "df = pd.DataFrame([], columns=columns_csv)\n",
    "\n",
    "for key, value in cryptos.items():\n",
    "    csv_file = pd.read_csv(data_path + value + \".csv\")\n",
    "    csv_file[\"Coin\"] = key\n",
    "    df = pd.concat([df, csv_file], axis=0, join='outer', ignore_index=False)\n",
    "\n",
    "output_path = r\"/Users/fernandoseguias/Desktop/ferseg/Proyectos/Programacion/iron_hack/project_1/output/cryptos_raw.csv\"\n",
    "df.to_csv(output_path, index = False)"
   ]
  }
 ],
 "metadata": {
  "interpreter": {
   "hash": "ce6363407d7cc5a6c2650843f0f84be89a0eefdab9ca8dc30ba5b5f925591864"
  },
  "kernelspec": {
   "display_name": "Python 3.5.6 ('snakes')",
   "language": "python",
   "name": "python3"
  },
  "language_info": {
   "codemirror_mode": {
    "name": "ipython",
    "version": 3
   },
   "file_extension": ".py",
   "mimetype": "text/x-python",
   "name": "python",
   "nbconvert_exporter": "python",
   "pygments_lexer": "ipython3",
   "version": "3.9.7"
  },
  "orig_nbformat": 4
 },
 "nbformat": 4,
 "nbformat_minor": 2
}
