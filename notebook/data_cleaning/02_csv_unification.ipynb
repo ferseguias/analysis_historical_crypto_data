{
 "cells": [
  {
   "cell_type": "code",
   "execution_count": 1,
   "metadata": {},
   "outputs": [],
   "source": [
    "import sys\n",
    "sys.path.append('../../')\n",
    "\n",
    "import src.ferseg as fs\n",
    "\n",
    "fs.csv_unification()"
   ]
  }
 ],
 "metadata": {
  "interpreter": {
   "hash": "ce6363407d7cc5a6c2650843f0f84be89a0eefdab9ca8dc30ba5b5f925591864"
  },
  "kernelspec": {
   "display_name": "Python 3.5.6 ('snakes')",
   "language": "python",
   "name": "python3"
  },
  "language_info": {
   "codemirror_mode": {
    "name": "ipython",
    "version": 3
   },
   "file_extension": ".py",
   "mimetype": "text/x-python",
   "name": "python",
   "nbconvert_exporter": "python",
   "pygments_lexer": "ipython3",
   "version": "3.9.7"
  },
  "orig_nbformat": 4
 },
 "nbformat": 4,
 "nbformat_minor": 2
}
