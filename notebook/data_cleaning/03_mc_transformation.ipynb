{
 "cells": [
  {
   "cell_type": "code",
   "execution_count": 1,
   "metadata": {},
   "outputs": [],
   "source": [
    "import pandas as pd\n",
    "import datetime\n",
    "\n",
    "def mc_transfor(df):\n",
    "    #get values in lists and drop old colums\n",
    "    df[['date','price']] = pd.DataFrame(df.prices.tolist(), index= df.index)\n",
    "    df['market_cap'] = df[\"market_caps\"].apply(lambda x : x[1])\n",
    "    df['total_volume'] = df[\"total_volumes\"].apply(lambda x : x[1])\n",
    "    df.drop([\"prices\", \"market_caps\", \"total_volumes\"], axis=1, inplace=True)\n",
    "\n",
    "    #change types: date to datetime / coin to category / floats to round float\n",
    "    df[\"date\"] = df[\"date\"].apply(lambda x : datetime.datetime.fromtimestamp(x / 1e3))\n",
    "    df[\"date\"] = df[\"date\"].dt.strftime('%d/%m/%Y')\n",
    "    df[\"coin\"] = df[\"coin\"].astype('category')\n",
    "    df[\"price\"] = df[\"price\"].astype(float).round(5)\n",
    "    df[[\"market_cap\", \"total_volume\"]] = df[[\"market_cap\", \"total_volume\"]].astype(int)\n",
    "\n",
    "    output_path = \"/Users/fernandoseguias/Desktop/ferseg/Proyectos/Programacion/iron_hack/project_1/output/cryptos_mc.csv\"\n",
    "    return df.to_csv(output_path, index=False)\n",
    "\n",
    "df = pd.read_json(\"/Users/fernandoseguias/Desktop/ferseg/Proyectos/Programacion/iron_hack/project_1/output/cryptos_raw.json\")\n",
    "mc_transfor(df)"
   ]
  }
 ],
 "metadata": {
  "interpreter": {
   "hash": "81535c40c187213d8173a98c8ffbf422147d8403865cdcdb817e05fa807ec559"
  },
  "kernelspec": {
   "display_name": "Python 3.9.7 ('base')",
   "language": "python",
   "name": "python3"
  },
  "language_info": {
   "codemirror_mode": {
    "name": "ipython",
    "version": 3
   },
   "file_extension": ".py",
   "mimetype": "text/x-python",
   "name": "python",
   "nbconvert_exporter": "python",
   "pygments_lexer": "ipython3",
   "version": "3.9.7"
  },
  "orig_nbformat": 4
 },
 "nbformat": 4,
 "nbformat_minor": 2
}
