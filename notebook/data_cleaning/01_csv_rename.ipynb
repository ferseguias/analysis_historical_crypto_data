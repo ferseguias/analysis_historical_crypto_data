{
 "cells": [
  {
   "cell_type": "markdown",
   "metadata": {},
   "source": [
    "***To homogenize csv file names***\n",
    "\n",
    "note: this program cannot be run again as file names has already renamed\n",
    "\n",
    "data extracted from: https://www.kaggle.com/kaushiksuresh147/top-10-cryptocurrencies-historical-dataset"
   ]
  },
  {
   "cell_type": "code",
   "execution_count": 1,
   "metadata": {},
   "outputs": [],
   "source": [
    "from os import walk\n",
    "import os\n"
   ]
  },
  {
   "cell_type": "code",
   "execution_count": 9,
   "metadata": {},
   "outputs": [],
   "source": [
    "data_path = \"/Users/fernandoseguias/Desktop/ferseg/Proyectos/Programacion/iron_hack/project_1/data/top_100_crypto_coins\"\n",
    "\n",
    "original_filename = []\n",
    "for (dirpath, dirnames, filenames) in walk(data_path):\n",
    "    original_filename.extend(filenames)\n",
    "    break\n",
    "\n",
    "filename = []\n",
    "for name in original_filename:\n",
    "    new_name = name.replace(\" \", \"_\").lower()\n",
    "    filename.append(new_name)\n",
    "    os.rename(data_path + \"/\" + name, data_path + \"/\" + new_name)"
   ]
  },
  {
   "cell_type": "code",
   "execution_count": 10,
   "metadata": {},
   "outputs": [
    {
     "data": {
      "text/plain": [
       "['celsius.csv', 'iota.csv', 'axie_infinity.csv', 'compound.csv']"
      ]
     },
     "execution_count": 10,
     "metadata": {},
     "output_type": "execute_result"
    }
   ],
   "source": [
    "filename[:4]"
   ]
  },
  {
   "cell_type": "code",
   "execution_count": 11,
   "metadata": {},
   "outputs": [
    {
     "data": {
      "text/plain": [
       "['Celsius.csv', 'IOTA.csv', 'Axie Infinity.csv', 'Compound.csv']"
      ]
     },
     "execution_count": 11,
     "metadata": {},
     "output_type": "execute_result"
    }
   ],
   "source": [
    "original_filename[:4]"
   ]
  }
 ],
 "metadata": {
  "language_info": {
   "name": "python"
  },
  "orig_nbformat": 4
 },
 "nbformat": 4,
 "nbformat_minor": 2
}
