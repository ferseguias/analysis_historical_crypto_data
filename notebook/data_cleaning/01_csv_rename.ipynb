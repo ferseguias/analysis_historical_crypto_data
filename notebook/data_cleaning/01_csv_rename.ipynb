{
 "cells": [
  {
   "cell_type": "code",
   "execution_count": 1,
   "metadata": {},
   "outputs": [],
   "source": [
    "from os import walk\n",
    "import os\n",
    "\n",
    "data_path = \"/Users/fernandoseguias/Desktop/ferseg/Proyectos/Programacion/iron_hack/project_1/data/top_100_crypto_coins\"\n",
    "\n",
    "original_filename = []\n",
    "for (dirpath, dirnames, filenames) in walk(data_path):\n",
    "    original_filename.extend(filenames)\n",
    "    break\n",
    "\n",
    "filename = []\n",
    "for name in original_filename:\n",
    "    new_name = name.replace(\" \", \"_\").lower()\n",
    "    filename.append(new_name)\n",
    "    os.rename(data_path + \"/\" + name, data_path + \"/\" + new_name)"
   ]
  }
 ],
 "metadata": {
  "language_info": {
   "name": "python"
  },
  "orig_nbformat": 4
 },
 "nbformat": 4,
 "nbformat_minor": 2
}
