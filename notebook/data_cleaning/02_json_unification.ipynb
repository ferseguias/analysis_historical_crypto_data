{
 "cells": [
  {
   "cell_type": "code",
   "execution_count": 1,
   "metadata": {},
   "outputs": [],
   "source": [
    "import pandas as pd\n",
    "\n",
    "cryptos = ['btc', 'eth', 'bnb', 'luna', \n",
    "            'sol', 'ada', 'avax', 'dot', \n",
    "            'doge', 'matic', 'atom', 'ltc', \n",
    "            'ftm', 'mana', 'sand', 'usdt', \n",
    "            'usdc', 'busd', 'ust', 'dai']\n",
    "\n",
    "data_path = \"/Users/fernandoseguias/Desktop/ferseg/Proyectos/Programacion/iron_hack/project_1/data/coingecko_marketcap/\"\n",
    "columns_json = [\"prices\", \"market_caps\", \"total_volumes\", \"coin\"]\n",
    "df = pd.DataFrame([], columns=columns_json)\n",
    "\n",
    "for coin in cryptos:\n",
    "    json_file = pd.read_json(f\"{data_path}{coin}.json\")\n",
    "    df = pd.concat([df, json_file], axis=0, join='outer', ignore_index=True)\n",
    "\n",
    "output_path = r\"/Users/fernandoseguias/Desktop/ferseg/Proyectos/Programacion/iron_hack/project_1/output/cryptos_raw.json\"\n",
    "df.to_json(output_path, index=True)"
   ]
  }
 ],
 "metadata": {
  "interpreter": {
   "hash": "81535c40c187213d8173a98c8ffbf422147d8403865cdcdb817e05fa807ec559"
  },
  "kernelspec": {
   "display_name": "Python 3.9.7 ('base')",
   "language": "python",
   "name": "python3"
  },
  "language_info": {
   "codemirror_mode": {
    "name": "ipython",
    "version": 3
   },
   "file_extension": ".py",
   "mimetype": "text/x-python",
   "name": "python",
   "nbconvert_exporter": "python",
   "pygments_lexer": "ipython3",
   "version": "3.9.7"
  },
  "orig_nbformat": 4
 },
 "nbformat": 4,
 "nbformat_minor": 2
}
