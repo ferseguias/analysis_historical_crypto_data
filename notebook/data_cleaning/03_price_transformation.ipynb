{
 "cells": [
  {
   "cell_type": "code",
   "execution_count": 1,
   "metadata": {},
   "outputs": [],
   "source": [
    "import pandas as pd\n",
    "import datetime\n",
    "\n",
    "def price_transfor(df):\n",
    "    #rename columns to lower\n",
    "    clean_columns = []\n",
    "    for col in df.columns:\n",
    "        clean_columns.append(col.lower())\n",
    "    df.columns = clean_columns\n",
    "\n",
    "    #change types: date to datetime / coin to category / floats to round float\n",
    "    df[\"date\"] = pd.to_datetime(df[\"date\"])\n",
    "    df[\"date\"] = df[\"date\"].dt.strftime('%d/%m/%Y')\n",
    "    df[\"coin\"] = df[\"coin\"].astype('category')\n",
    "    round_list = [\"open\", \"high\", \"low\", \"close\"]\n",
    "    for col in round_list:\n",
    "        df[col] = df[col].astype(float)\n",
    "        df[col] = df[col].round(5)\n",
    "    output_path = \"/Users/fernandoseguias/Desktop/ferseg/Proyectos/Programacion/iron_hack/project_1/output/cryptos_price.csv\"\n",
    "    return df.to_csv(output_path, index=False)\n",
    "\n",
    "df = pd.read_csv(r\"/Users/fernandoseguias/Desktop/ferseg/Proyectos/Programacion/iron_hack/project_1/output/cryptos_raw.csv\")\n",
    "price_transfor(df)"
   ]
  }
 ],
 "metadata": {
  "interpreter": {
   "hash": "81535c40c187213d8173a98c8ffbf422147d8403865cdcdb817e05fa807ec559"
  },
  "kernelspec": {
   "display_name": "Python 3.9.7 ('base')",
   "language": "python",
   "name": "python3"
  },
  "language_info": {
   "codemirror_mode": {
    "name": "ipython",
    "version": 3
   },
   "file_extension": ".py",
   "mimetype": "text/x-python",
   "name": "python",
   "nbconvert_exporter": "python",
   "pygments_lexer": "ipython3",
   "version": "3.9.7"
  },
  "orig_nbformat": 4
 },
 "nbformat": 4,
 "nbformat_minor": 2
}
