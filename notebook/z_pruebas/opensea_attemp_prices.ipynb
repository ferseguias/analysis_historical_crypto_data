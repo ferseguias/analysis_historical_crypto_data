{
 "cells": [
  {
   "cell_type": "code",
   "execution_count": null,
   "metadata": {},
   "outputs": [],
   "source": [
    "import requests\n",
    "import pandas as pd\n",
    "\n",
    "import numpy as np\n",
    "\n",
    "from time import sleep\n",
    "from selenium import webdriver\n",
    "from webdriver_manager.chrome import ChromeDriverManager\n",
    "from selenium.webdriver.common.keys import Keys\n",
    "from selenium.webdriver.chrome.options import Options\n",
    "\n",
    "import warnings\n",
    "warnings.filterwarnings('ignore')"
   ]
  },
  {
   "cell_type": "code",
   "execution_count": null,
   "metadata": {},
   "outputs": [],
   "source": [
    "opciones= Options()\n",
    "opciones.add_experimental_option('excludeSwitches', ['enable-automation']) #para ocultarme como robot\n",
    "opciones.add_experimental_option('useAutomationExtension', False)\n",
    "#opciones.add_argument('--start-maximized') #empezar maximizado\n",
    "opciones.add_argument('user.data-dir=selenium') #guarda las cookies\n",
    "opciones.add_argument('--incognito')#incognito window"
   ]
  },
  {
   "cell_type": "code",
   "execution_count": null,
   "metadata": {},
   "outputs": [],
   "source": [
    "driver = webdriver.Chrome(ChromeDriverManager().install())\n",
    "\n",
    "#ESTO DEBERIA VENIR DE OTRA TABLA/FUNCION\n",
    "ETH_price = 2660\n",
    "\n",
    "#create a diccionary with basic info of floor items\n",
    "floor_items = {\"id\":[], \"price\":[]}\n",
    "\n",
    "#open url - collection \"The Doggies (Snoop Dogg)\"\n",
    "driver.get(\"https://opensea.io/collection/snoop-dogg-doggies?search[sortBy]=PRICE&search[sortAscending]=true&search[toggles][0]=BUY_NOW\")\n",
    "sleep(3)\n",
    "\n",
    "#set a variable with 25% increment of floor price to limit search in usd\n",
    "limit_price = str(float(driver.find_element_by_css_selector(\"#main > div > div > div.CollectionHeaderreact__DivContainer-sc-1woywpk-0.leOEIG > div.Blockreact__Block-sc-1xf18x6-0.Flexreact__Flex-sc-1twd32i-0.fZLRIh.jYqxGr > div:nth-child(5) > div.Blockreact__Block-sc-1xf18x6-0.Flexreact__Flex-sc-1twd32i-0.InfoContainerreact__InfoContainer-sc-15x3z7c-0.CollectionStatsBarreact__Container-sc-8gdi9o-0.elqhCm.jYqxGr.fprnFG.cWlCaZ > div:nth-child(3) > a > div > div.Blockreact__Block-sc-1xf18x6-0.Flexreact__Flex-sc-1twd32i-0.elqhCm.jYqxGr.Info--icon > div > span > div\").text) * 1.25 * ETH_price)\n",
    "sleep(3)\n",
    "\n",
    "#input variable in filter\n",
    "driver.find_element_by_css_selector(\"#Body\\ react-aria-4 > div > div > div.Blockreact__Block-sc-1xf18x6-0.Flexreact__Flex-sc-1twd32i-0.SpaceBetweenreact__SpaceBetween-sc-jjxyhg-0.hfScwI.jYqxGr.gJwgfT > div:nth-child(3) > section > div > div > input\").click()\n",
    "sleep(3)\n",
    "driver.find_element_by_css_selector(\"#Body\\ react-aria-4 > div > div > div.Blockreact__Block-sc-1xf18x6-0.Flexreact__Flex-sc-1twd32i-0.SpaceBetweenreact__SpaceBetween-sc-jjxyhg-0.hfScwI.jYqxGr.gJwgfT > div:nth-child(3) > section > div > div > input\").send_keys(f'{limit_price}', Keys.TAB)\n",
    "sleep(3)\n",
    "driver.find_element_by_css_selector(\"#Body\\ react-aria-4 > div > div > div.Blockreact__Block-sc-1xf18x6-0.hLJhIy > button\").click()\n",
    "sleep(3)\n",
    "\n",
    "#many items visualization option\n",
    "driver.find_element_by_xpath('//*[@id=\"main\"]/div/div/div[3]/div/div/div/div[3]/div[1]/div[2]/div[4]/div/button[2]').click()\n",
    "sleep(10)\n",
    "\n",
    "#scroll and scrap to the end\n",
    "\n",
    "id_list = []\n",
    "price_list = []\n",
    "\n",
    "for i in range(6): #adjust integer value for need \n",
    "    items_list = driver.find_elements_by_class_name('AssetCardFooter--name')\n",
    "    sleep(1)\n",
    "    prices_list = driver.find_elements_by_css_selector('#main > div > div > div.Blockreact__Block-sc-1xf18x6-0.elqhCm > div > div > div > div.AssetSearchView--results.collection--results > div.Blockreact__Block-sc-1xf18x6-0.elqhCm.AssetsSearchView--assets > div.fresnel-container.fresnel-greaterThanOrEqual-sm > div > div > div:nth-child(8) > div > article > a > div.Blockreact__Block-sc-1xf18x6-0.Flexreact__Flex-sc-1twd32i-0.SpaceBetweenreact__SpaceBetween-sc-jjxyhg-0.AssetCardFooterreact__StyledContainer-sc-nedjig-0.kLMBbO.jYqxGr.gJwgfT.cBTfDg > div > div.Blockreact__Block-sc-1xf18x6-0.Flexreact__Flex-sc-1twd32i-0.FlexColumnreact__FlexColumn-sc-1wwz3hp-0.hrRSNm.jYqxGr.ksFzlZ > div.AssetCardFooter--price > div > div.Overflowreact__OverflowContainer-sc-7qr9y8-0.jPSCbX.Price--amount > span')\n",
    "    sleep(1)\n",
    "    for x in prices_list:\n",
    "        price_list.append(x.text)\n",
    "    for i in items_list:\n",
    "        id_list.append(i.text)\n",
    "    driver.execute_script(\"window.scrollBy(0, 450)\") #you can change right side number for scroll convenience or destination\n",
    "    sleep(2) #you can change time integer to float or remove"
   ]
  }
 ],
 "metadata": {
  "language_info": {
   "name": "python"
  },
  "orig_nbformat": 4
 },
 "nbformat": 4,
 "nbformat_minor": 2
}
