{
 "cells": [
  {
   "cell_type": "code",
   "execution_count": 37,
   "metadata": {},
   "outputs": [
    {
     "name": "stderr",
     "output_type": "stream",
     "text": [
      "\n",
      "\n",
      "====== WebDriver manager ======\n",
      "Current google-chrome version is 98.0.4758\n",
      "Get LATEST chromedriver version for 98.0.4758 google-chrome\n",
      "Driver [/Users/fernandoseguias/.wdm/drivers/chromedriver/mac64/98.0.4758.102/chromedriver] found in cache\n"
     ]
    },
    {
     "name": "stdout",
     "output_type": "stream",
     "text": [
      "24 items found - from: floor price 0.36ETH to 0.41ETH (12.5% increase)\n"
     ]
    },
    {
     "data": {
      "text/plain": [
       "{'Doggy #0105',\n",
       " 'Doggy #0123',\n",
       " 'Doggy #0138',\n",
       " 'Doggy #0292',\n",
       " 'Doggy #0522',\n",
       " 'Doggy #0972',\n",
       " 'Doggy #1295',\n",
       " 'Doggy #1539',\n",
       " 'Doggy #3732',\n",
       " 'Doggy #4785',\n",
       " 'Doggy #4793',\n",
       " 'Doggy #5026',\n",
       " 'Doggy #5030',\n",
       " 'Doggy #5095',\n",
       " 'Doggy #5630',\n",
       " 'Doggy #5796',\n",
       " 'Doggy #7103',\n",
       " 'Doggy #7825',\n",
       " 'Doggy #8783',\n",
       " 'Doggy #8832',\n",
       " 'Doggy #9042',\n",
       " 'Doggy #9213',\n",
       " 'Doggy #9334',\n",
       " 'Doggy #9933'}"
      ]
     },
     "execution_count": 37,
     "metadata": {},
     "output_type": "execute_result"
    }
   ],
   "source": [
    "#to-do:\n",
    "#importar precio actual de eth\n",
    "#crear funcion con parametros a insertar (limit_price - afecta los sleeps si se elijen muchos datos, collection - url)\n",
    "\n",
    "import requests\n",
    "import pandas as pd\n",
    "import numpy as np\n",
    "from time import sleep\n",
    "from selenium import webdriver\n",
    "from webdriver_manager.chrome import ChromeDriverManager\n",
    "from selenium.webdriver.common.keys import Keys\n",
    "from selenium.webdriver.chrome.options import Options\n",
    "import warnings\n",
    "warnings.filterwarnings('ignore')\n",
    "\n",
    "#------------------------------------------------\n",
    "\n",
    "opciones= Options()\n",
    "opciones.add_experimental_option('excludeSwitches', ['enable-automation']) #para ocultarme como robot\n",
    "opciones.add_experimental_option('useAutomationExtension', False)\n",
    "#opciones.add_argument('--start-maximized') #empezar maximizado\n",
    "opciones.add_argument('user.data-dir=selenium') #guarda las cookies\n",
    "opciones.add_argument('--incognito')#incognito window\n",
    "\n",
    "#------------------------------------------------\n",
    "\n",
    "driver = webdriver.Chrome(ChromeDriverManager().install())\n",
    "\n",
    "#ESTO DEBERIA VENIR DE OTRA TABLA/FUNCION\n",
    "ETH_price = 2660\n",
    "price_increase = 1.125 #desired % to increase over floor price\n",
    "\n",
    "#open url - collection \"The Doggies (Snoop Dogg)\"\n",
    "driver.get(\"https://opensea.io/collection/snoop-dogg-doggies?search[sortBy]=PRICE&search[sortAscending]=true&search[toggles][0]=BUY_NOW\")\n",
    "sleep(3.5)\n",
    "\n",
    "#set a variable with 25% increment of floor price to limit search in usd\n",
    "floor_price = float(driver.find_element_by_css_selector(\"#main > div > div > div.CollectionHeaderreact__DivContainer-sc-1woywpk-0.leOEIG > div.Blockreact__Block-sc-1xf18x6-0.Flexreact__Flex-sc-1twd32i-0.fZLRIh.jYqxGr > div:nth-child(5) > div.Blockreact__Block-sc-1xf18x6-0.Flexreact__Flex-sc-1twd32i-0.InfoContainerreact__InfoContainer-sc-15x3z7c-0.CollectionStatsBarreact__Container-sc-8gdi9o-0.elqhCm.jYqxGr.fprnFG.cWlCaZ > div:nth-child(3) > a > div > div.Blockreact__Block-sc-1xf18x6-0.Flexreact__Flex-sc-1twd32i-0.elqhCm.jYqxGr.Info--icon > div > span > div\").text)\n",
    "limit_price = str(floor_price * price_increase * ETH_price)\n",
    "sleep(1.5)\n",
    "\n",
    "#input variable in filter\n",
    "driver.find_element_by_css_selector(\"#Body\\ react-aria-4 > div > div > div.Blockreact__Block-sc-1xf18x6-0.Flexreact__Flex-sc-1twd32i-0.SpaceBetweenreact__SpaceBetween-sc-jjxyhg-0.hfScwI.jYqxGr.gJwgfT > div:nth-child(3) > section > div > div > input\").click()\n",
    "sleep(2)\n",
    "driver.find_element_by_css_selector(\"#Body\\ react-aria-4 > div > div > div.Blockreact__Block-sc-1xf18x6-0.Flexreact__Flex-sc-1twd32i-0.SpaceBetweenreact__SpaceBetween-sc-jjxyhg-0.hfScwI.jYqxGr.gJwgfT > div:nth-child(3) > section > div > div > input\").send_keys(f'{limit_price}', Keys.TAB)\n",
    "sleep(2)\n",
    "driver.find_element_by_css_selector(\"#Body\\ react-aria-4 > div > div > div.Blockreact__Block-sc-1xf18x6-0.hLJhIy > button\").click()\n",
    "sleep(2)\n",
    "\n",
    "#many items visualization option\n",
    "driver.find_element_by_xpath('//*[@id=\"main\"]/div/div/div[3]/div/div/div/div[3]/div[1]/div[2]/div[4]/div/button[2]').click()\n",
    "sleep(3.5)\n",
    "\n",
    "#scroll and scrap to the end\n",
    "id_list = []\n",
    "\n",
    "for i in range(8): #adjust integer value for need \n",
    "    items_list = driver.find_elements_by_class_name('AssetCardFooter--name')\n",
    "    sleep(2)\n",
    "    for i in items_list:\n",
    "        if i.text in id_list:\n",
    "            pass\n",
    "        else:\n",
    "            id_list.append(i.text)\n",
    "    driver.execute_script(\"window.scrollBy(0, 250)\") #you can change right side number for scroll convenience or destination\n",
    "    sleep(1) #you can change time integer to float or remove\n",
    "\n",
    "#remove possible blank outcomes and duplicate id's\n",
    "while '' in id_list:\n",
    "    id_list.remove('')\n",
    "\n",
    "id_set = set(id_list)\n",
    "\n",
    "#print results\n",
    "print(f'{len(id_list)} items found - from: floor price {round(floor_price, 2)}ETH to {round((floor_price * 1.125), 2)}ETH (12.5% increase)')\n",
    "id_set"
   ]
  },
  {
   "cell_type": "code",
   "execution_count": null,
   "metadata": {},
   "outputs": [],
   "source": []
  }
 ],
 "metadata": {
  "interpreter": {
   "hash": "81535c40c187213d8173a98c8ffbf422147d8403865cdcdb817e05fa807ec559"
  },
  "kernelspec": {
   "display_name": "Python 3.9.7 ('base')",
   "language": "python",
   "name": "python3"
  },
  "language_info": {
   "codemirror_mode": {
    "name": "ipython",
    "version": 3
   },
   "file_extension": ".py",
   "mimetype": "text/x-python",
   "name": "python",
   "nbconvert_exporter": "python",
   "pygments_lexer": "ipython3",
   "version": "3.9.7"
  },
  "orig_nbformat": 4
 },
 "nbformat": 4,
 "nbformat_minor": 2
}
