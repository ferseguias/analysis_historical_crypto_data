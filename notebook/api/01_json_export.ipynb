{
 "cells": [
  {
   "cell_type": "code",
   "execution_count": 4,
   "metadata": {},
   "outputs": [],
   "source": [
    "import sys\n",
    "sys.path.append('../../')\n",
    "\n",
    "import src.ferseg as fs\n",
    "from datetime import date\n",
    "\n",
    "cryptos = ['btc', 'eth', 'bnb', 'luna', \n",
    "            'sol', 'ada', 'avax', 'dot', \n",
    "            'doge', 'matic', 'atom', 'ltc', \n",
    "            'ftm', 'mana', 'sand', 'usdt', \n",
    "            'usdc', 'busd', 'ust', 'dai']\n",
    "\n",
    "for coin in cryptos:\n",
    "    fs.json_marketcap(coin, \"usd\", date(2018, 1, 1), date(2021, 12, 31))"
   ]
  }
 ],
 "metadata": {
  "interpreter": {
   "hash": "81535c40c187213d8173a98c8ffbf422147d8403865cdcdb817e05fa807ec559"
  },
  "kernelspec": {
   "display_name": "Python 3.9.7 ('base')",
   "language": "python",
   "name": "python3"
  },
  "language_info": {
   "codemirror_mode": {
    "name": "ipython",
    "version": 3
   },
   "file_extension": ".py",
   "mimetype": "text/x-python",
   "name": "python",
   "nbconvert_exporter": "python",
   "pygments_lexer": "ipython3",
   "version": "3.9.7"
  },
  "orig_nbformat": 4
 },
 "nbformat": 4,
 "nbformat_minor": 2
}
