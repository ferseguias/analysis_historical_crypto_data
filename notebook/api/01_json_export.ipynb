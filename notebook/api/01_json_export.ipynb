{
 "cells": [
  {
   "cell_type": "code",
   "execution_count": 1,
   "metadata": {},
   "outputs": [],
   "source": [
    "from pycoingecko import CoinGeckoAPI\n",
    "import pandas as pd\n",
    "from datetime import date\n",
    "import time"
   ]
  },
  {
   "cell_type": "code",
   "execution_count": 2,
   "metadata": {},
   "outputs": [],
   "source": [
    "def json_marketcap(coin, pair, from_date, to_date):\n",
    "    cg = CoinGeckoAPI()\n",
    "\n",
    "    #translate from coin ticker (unique) to coin id (json)\n",
    "\n",
    "    coin_list = pd.DataFrame(cg.get_coins_list())\n",
    "    coin_id = coin_list.loc[lambda coin_list : coin_list['symbol'] == f\"{coin}\"][\"id\"].iloc[0]\n",
    "    time.sleep(4)\n",
    "\n",
    "    #query marketcap by date range\n",
    "    marketcap = pd.DataFrame(cg.get_coin_market_chart_range_by_id(id=coin_id, vs_currency=pair, from_timestamp=from_date.strftime('%s'), to_timestamp=to_date.strftime('%s')))\n",
    "    marketcap[\"coin\"] = coin\n",
    "    variable_path = f\"/Users/fernandoseguias/Desktop/ferseg/Proyectos/Programacion/iron_hack/project_1/data/coingecko_marketcap/{coin}.json\"\n",
    "    time.sleep(4)\n",
    "    return marketcap.to_json(variable_path, index = True)\n",
    "\n",
    "    #print deleted: f'you have downloaded data set of {coin} with {marketcap.shape[0]} rows and {marketcap.shape[1]} columns - from {from_date} to {to_date}'"
   ]
  },
  {
   "cell_type": "code",
   "execution_count": 5,
   "metadata": {},
   "outputs": [],
   "source": [
    "cryptos = ['btc', 'eth', 'bnb', 'luna', \n",
    "            'sol', 'ada', 'avax', 'dot', \n",
    "            'doge', 'matic', 'atom', 'ltc', \n",
    "            'ftm', 'mana', 'sand', 'usdt', \n",
    "            'usdc', 'busd', 'ust', 'dai']\n",
    "\n",
    "for coin in cryptos:\n",
    "    json_marketcap(coin, \"usd\", date(2018, 1, 1), date(2021, 12, 31))"
   ]
  }
 ],
 "metadata": {
  "interpreter": {
   "hash": "81535c40c187213d8173a98c8ffbf422147d8403865cdcdb817e05fa807ec559"
  },
  "kernelspec": {
   "display_name": "Python 3.9.7 ('base')",
   "language": "python",
   "name": "python3"
  },
  "language_info": {
   "codemirror_mode": {
    "name": "ipython",
    "version": 3
   },
   "file_extension": ".py",
   "mimetype": "text/x-python",
   "name": "python",
   "nbconvert_exporter": "python",
   "pygments_lexer": "ipython3",
   "version": "3.9.7"
  },
  "orig_nbformat": 4
 },
 "nbformat": 4,
 "nbformat_minor": 2
}
