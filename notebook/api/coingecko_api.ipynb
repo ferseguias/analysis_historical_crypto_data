{
 "cells": [
  {
   "cell_type": "code",
   "execution_count": null,
   "metadata": {},
   "outputs": [],
   "source": [
    "from pycoingecko import CoinGeckoAPI\n",
    "import pandas as pd\n",
    "from datetime import date\n",
    "\n",
    "cg = CoinGeckoAPI()\n",
    "\n",
    "#query get coins list\n",
    "pd.DataFrame(cg.get_coins_list()).sample(5)\n",
    "\n",
    "#query marketcap by date range\n",
    "pd.DataFrame(cg.get_coin_market_chart_range_by_id(id=\"bitcoin\", vs_currency=\"usd\", from_timestamp=\"1288130400\", to_timestamp=\"1422577232\"))\n",
    "\n",
    "#function to convert date to unix timestamp\n",
    "from_ = date(2010, 10, 27)\n",
    "to_ = date(2010, 10, 28)\n",
    "\n",
    "unix_from = from_.strftime('%s')\n",
    "unix_to = to_.strftime('%s')"
   ]
  },
  {
   "cell_type": "code",
   "execution_count": null,
   "metadata": {},
   "outputs": [],
   "source": []
  }
 ],
 "metadata": {
  "interpreter": {
   "hash": "81535c40c187213d8173a98c8ffbf422147d8403865cdcdb817e05fa807ec559"
  },
  "kernelspec": {
   "display_name": "Python 3.9.7 ('base')",
   "language": "python",
   "name": "python3"
  },
  "language_info": {
   "codemirror_mode": {
    "name": "ipython",
    "version": 3
   },
   "file_extension": ".py",
   "mimetype": "text/x-python",
   "name": "python",
   "nbconvert_exporter": "python",
   "pygments_lexer": "ipython3",
   "version": "3.9.7"
  },
  "orig_nbformat": 4
 },
 "nbformat": 4,
 "nbformat_minor": 2
}
